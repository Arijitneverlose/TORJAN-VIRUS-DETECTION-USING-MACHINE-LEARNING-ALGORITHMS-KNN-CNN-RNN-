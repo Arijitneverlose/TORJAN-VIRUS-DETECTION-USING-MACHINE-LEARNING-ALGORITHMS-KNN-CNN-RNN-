{
  "nbformat": 4,
  "nbformat_minor": 0,
  "metadata": {
    "colab": {
      "provenance": [],
      "toc_visible": true,
      "mount_file_id": "19ZDhiucLe0EAGM98zLHCQNVVh7Nuy9zc",
      "authorship_tag": "ABX9TyOmuWwXkZ7w3XjhpbRmYdFw",
      "include_colab_link": true
    },
    "kernelspec": {
      "name": "python3",
      "display_name": "Python 3"
    },
    "language_info": {
      "name": "python"
    }
  },
  "cells": [
    {
      "cell_type": "markdown",
      "metadata": {
        "id": "view-in-github",
        "colab_type": "text"
      },
      "source": [
        "<a href=\"https://colab.research.google.com/github/Arijitneverlose/TORJAN-VIRUS-DETECTION-USING-MACHINE-LEARNING-ALGORITHMS-KNN-CNN-RNN-/blob/main/KNN_algorithm.ipynb\" target=\"_parent\"><img src=\"https://colab.research.google.com/assets/colab-badge.svg\" alt=\"Open In Colab\"/></a>"
      ]
    },
    {
      "cell_type": "code",
      "execution_count": 17,
      "metadata": {
        "colab": {
          "base_uri": "https://localhost:8080/"
        },
        "id": "yWDRUPdrmKMU",
        "outputId": "83c3e0a9-2a0d-4ce6-c80f-c0d3c07506ee"
      },
      "outputs": [
        {
          "output_type": "stream",
          "name": "stdout",
          "text": [
            "Accuracy: 0.9454545454545454\n",
            "Classification Report:\n",
            "                   precision    recall  f1-score   support\n",
            "\n",
            "    'Trojan Free'       0.00      0.00      0.00         3\n",
            "'Trojan Infected'       0.95      1.00      0.97        52\n",
            "\n",
            "         accuracy                           0.95        55\n",
            "        macro avg       0.47      0.50      0.49        55\n",
            "     weighted avg       0.89      0.95      0.92        55\n",
            "\n"
          ]
        },
        {
          "output_type": "stream",
          "name": "stderr",
          "text": [
            "/usr/local/lib/python3.10/dist-packages/sklearn/metrics/_classification.py:1344: UndefinedMetricWarning: Precision and F-score are ill-defined and being set to 0.0 in labels with no predicted samples. Use `zero_division` parameter to control this behavior.\n",
            "  _warn_prf(average, modifier, msg_start, len(result))\n",
            "/usr/local/lib/python3.10/dist-packages/sklearn/metrics/_classification.py:1344: UndefinedMetricWarning: Precision and F-score are ill-defined and being set to 0.0 in labels with no predicted samples. Use `zero_division` parameter to control this behavior.\n",
            "  _warn_prf(average, modifier, msg_start, len(result))\n",
            "/usr/local/lib/python3.10/dist-packages/sklearn/metrics/_classification.py:1344: UndefinedMetricWarning: Precision and F-score are ill-defined and being set to 0.0 in labels with no predicted samples. Use `zero_division` parameter to control this behavior.\n",
            "  _warn_prf(average, modifier, msg_start, len(result))\n"
          ]
        }
      ],
      "source": [
        "import pandas as pd\n",
        "from sklearn.model_selection import train_test_split\n",
        "from sklearn.preprocessing import StandardScaler\n",
        "from sklearn.neighbors import KNeighborsClassifier\n",
        "from sklearn.metrics import accuracy_score, classification_report\n",
        "\n",
        "# Load the Excel file\n",
        "df = pd.read_excel('/content/drive/MyDrive/data_4 (1).xlsx')\n",
        "\n",
        "\n",
        "# Drop the 'circuit' column and extract features and labels\n",
        "X = df.drop(['Circuit', 'Label'], axis=1)  # Features\n",
        "y = df['Label']  # Labels\n",
        "\n",
        "# Split the data into training and testing sets\n",
        "X_train, X_test, y_train, y_test = train_test_split(X, y, test_size=0.3, random_state=42)\n",
        "\n",
        "# Normalize the features\n",
        "scaler = StandardScaler()\n",
        "X_train = scaler.fit_transform(X_train)\n",
        "X_test = scaler.transform(X_test)\n",
        "\n",
        "# Initialize the KNN classifier\n",
        "k = 5  # You can choose different values for K\n",
        "knn = KNeighborsClassifier(n_neighbors=k)\n",
        "\n",
        "# Train the classifier\n",
        "knn.fit(X_train, y_train)\n",
        "\n",
        "# Make predictions\n",
        "y_pred = knn.predict(X_test)\n",
        "\n",
        "# Evaluate the classifier\n",
        "print(f\"Accuracy: {accuracy_score(y_test, y_pred)}\")\n",
        "\n"
      ]
    },
    {
      "cell_type": "code",
      "source": [
        "import pandas as pd\n",
        "from sklearn.model_selection import train_test_split\n",
        "from sklearn.preprocessing import StandardScaler\n",
        "from sklearn.neighbors import KNeighborsClassifier\n",
        "from sklearn.metrics import accuracy_score, log_loss\n",
        "import matplotlib.pyplot as plt\n",
        "import numpy as np\n",
        "\n",
        "# Load the Excel file\n",
        "df = pd.read_excel('/content/drive/MyDrive/data_4 (1).xlsx')\n",
        "\n",
        "# Drop the 'Circuit' column and extract features and labels\n",
        "X = df.drop(['Circuit', 'Label'], axis=1)  # Features\n",
        "y = df['Label']  # Labels\n",
        "\n",
        "# Split the data into training and testing sets\n",
        "X_train, X_test, y_train, y_test = train_test_split(X, y, test_size=0.3, random_state=42)\n",
        "\n",
        "# Normalize the features\n",
        "scaler = StandardScaler()\n",
        "X_train = scaler.fit_transform(X_train)\n",
        "X_test = scaler.transform(X_test)\n",
        "\n",
        "# Initialize the KNN classifier\n",
        "k = 5  # You can choose different values for K\n",
        "knn = KNeighborsClassifier(n_neighbors=k)\n",
        "\n",
        "# Train the classifier\n",
        "knn.fit(X_train, y_train)\n",
        "\n",
        "# Make predictions\n",
        "y_pred = knn.predict(X_test)\n",
        "y_pred_prob = knn.predict_proba(X_test)  # Probabilities for log loss calculation\n",
        "\n",
        "# Evaluate the classifier\n",
        "accuracy = accuracy_score(y_test, y_pred)\n",
        "loss = log_loss(y_test, y_pred_prob)\n",
        "\n",
        "print(f\"Accuracy: {accuracy}\")\n",
        "print(f\"Log Loss: {loss}\")\n",
        "\n",
        "# Plotting function\n",
        "def plot_results(y_test, y_pred):\n",
        "    plt.figure(figsize=(10, 6))\n",
        "    indices = np.arange(len(y_test))\n",
        "\n",
        "    plt.scatter(indices, y_test, color='blue', label='Actual')\n",
        "    plt.scatter(indices, y_pred, color='red', label='Predicted', alpha=0.5)\n",
        "\n",
        "    plt.title('Actual vs Predicted Labels')\n",
        "    plt.xlabel('Index')\n",
        "    plt.ylabel('Label')\n",
        "    plt.legend()\n",
        "    plt.show()\n",
        "\n",
        "# Call the plotting function\n",
        "plot_results(y_test, y_pred)\n",
        "\n"
      ],
      "metadata": {
        "colab": {
          "base_uri": "https://localhost:8080/",
          "height": 553
        },
        "id": "-HNBke0ssEgb",
        "outputId": "4eaf700e-f023-404f-c22c-c51f2d3ce275"
      },
      "execution_count": 20,
      "outputs": [
        {
          "output_type": "stream",
          "name": "stdout",
          "text": [
            "Accuracy: 0.9454545454545454\n",
            "Log Loss: 1.3480551235144878\n"
          ]
        },
        {
          "output_type": "display_data",
          "data": {
            "text/plain": [
              "<Figure size 1000x600 with 1 Axes>"
            ],
            "image/png": "[encoded data removed]"
          },
          "metadata": {}
        }
      ]
    }
  ]
}